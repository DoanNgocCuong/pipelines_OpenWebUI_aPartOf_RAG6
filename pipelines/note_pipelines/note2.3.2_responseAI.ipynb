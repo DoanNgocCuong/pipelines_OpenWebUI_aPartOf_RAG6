{
 "cells": [
  {
   "cell_type": "markdown",
   "metadata": {},
   "source": [
    "\n",
    "\n",
    "Đúng rồi! Cả 2 hàm `pipe` và `inlet` đều có logic xử lý tương tự để tạo context, nhưng đang có sự khác biệt trong cách truy cập content:\n",
    "\n",
    "Trong `pipe`:\n",
    "```python\n",
    "content = (\n",
    "    match.get(\"payload\", {}).get(\"page_content\") or \n",
    "    \"No content cuong\"\n",
    ")\n",
    "```\n",
    "\n",
    "Trong `inlet`:\n",
    "```python\n",
    "content = (\n",
    "    payload.get(\"page_content\") or \n",
    "    payload.get(\"payload\", {}).get(\"content\") or \n",
    "    payload.get(\"payload\", {}).get(\"text\") or \n",
    "    payload.get(\"payload\", {}).get(\"document\") or \n",
    "    \"No content\"\n",
    ")\n",
    "```\n",
    "\n",
    "Nên thống nhất lại cách lấy content cho cả 2 hàm:\n",
    "```python\n",
    "# Cách đúng để lấy content từ match:\n",
    "content = match.get(\"payload\", {}).get(\"page_content\", \"No content\")\n",
    "```\n",
    "\n",
    "Vì cấu trúc data từ Qdrant là:\n",
    "```python\n",
    "match = {\n",
    "    'id': '...',\n",
    "    'score': 0.62,\n",
    "    'payload': {\n",
    "        'page_content': 'nội dung...',\n",
    "        'metadata': {...}\n",
    "    }\n",
    "}\n",
    "```\n",
    "\n",
    "Việc thống nhất này sẽ giúp cả 2 hàm trả về kết quả giống nhau và chính xác.\n"
   ]
  },
  {
   "cell_type": "markdown",
   "metadata": {},
   "source": [
    "## 2. "
   ]
  },
  {
   "cell_type": "markdown",
   "metadata": {},
   "source": [
    "- Bước trên mới chỉ từ: Query -> Embedding -> Vector Search -> ra Context. \n"
   ]
  },
  {
   "cell_type": "markdown",
   "metadata": {},
   "source": [
    "https://github.com/DoanNgocCuong/BasicTasks_Prompting/blob/main/5_TuningPrompting/PromptTuning_OpenAI_v3_aisuiteManyModel.py"
   ]
  },
  {
   "cell_type": "markdown",
   "metadata": {},
   "source": [
    "https://github.com/andrewyng/aisuite/blob/main/aisuite/providers/openai_provider.py"
   ]
  },
  {
   "cell_type": "code",
   "execution_count": null,
   "metadata": {},
   "outputs": [],
   "source": []
  }
 ],
 "metadata": {
  "language_info": {
   "name": "python"
  }
 },
 "nbformat": 4,
 "nbformat_minor": 2
}
