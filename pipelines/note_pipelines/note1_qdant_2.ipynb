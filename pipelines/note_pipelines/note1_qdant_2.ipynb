{
 "cells": [
  {
   "cell_type": "markdown",
   "metadata": {},
   "source": [
    "\n",
    "\n",
    "Ah, tôi xem lại code và thấy pipeline đang lấy data từ Hugging Face dataset:\n",
    "\n",
    "```python\n",
    "# Current data source\n",
    "dataset = load_dataset(\"bilgeyucel/seven-wonders\", split=\"train\")\n",
    "docs = [Document(content=doc[\"content\"], meta=doc[\"meta\"]) for doc in dataset]\n",
    "```\n",
    "\n",
    "Đây là dataset về 7 kỳ quan thế giới. Thay vì lấy data từ dataset này, chúng ta cần truy vấn trực tiếp từ Qdrant collection `trung_luat_DB` của bạn. Sửa lại như sau:\n",
    "\n",
    "```python:pipelines_OpenWebUI_aPartOf_RAG6/pipelines/haystack_pipeline.py\n",
    "    async def on_startup(self):\n",
    "        os.environ[\"OPENAI_API_KEY\"] = \"your_openai_api_key_here\"\n",
    "\n",
    "        # ... keep existing imports ...\n",
    "\n",
    "        # Thay đổi phần lấy data\n",
    "        from haystack import Document\n",
    "        \n",
    "        # Lấy documents từ Qdrant\n",
    "        search_results = self.qdrant_client.scroll(\n",
    "            collection_name=self.collection_name,\n",
    "            limit=100  # Có thể điều chỉnh số lượng\n",
    "        )[0]  # [0] là danh sách points, [1] là next_page_offset\n",
    "\n",
    "        # Chuyển đổi Qdrant points thành Haystack Documents\n",
    "        docs = [\n",
    "            Document(\n",
    "                content=point.payload.get(\"content\", \"\"),\n",
    "                meta=point.payload.get(\"metadata\", {})\n",
    "            ) \n",
    "            for point in search_results\n",
    "        ]\n",
    "\n",
    "        # Phần còn lại giữ nguyên...\n",
    "```\n",
    "\n",
    "Như vậy pipeline sẽ:\n",
    "1. Lấy data từ Qdrant collection của bạn thay vì dataset seven-wonders\n",
    "2. Chuyển đổi data từ Qdrant format sang Haystack Document format\n",
    "3. Tiếp tục xử lý như pipeline cũ với embedder, retriever, v.v.\n"
   ]
  },
  {
   "cell_type": "code",
   "execution_count": null,
   "metadata": {},
   "outputs": [],
   "source": []
  },
  {
   "cell_type": "markdown",
   "metadata": {},
   "source": []
  },
  {
   "cell_type": "markdown",
   "metadata": {},
   "source": [
    "\n",
    "\n",
    "Ah, tôi thấy cấu trúc dữ liệu trong Qdrant của bạn có:\n",
    "1. `page_content`: chứa nội dung văn bản\n",
    "2. `metadata`: chứa source file\n",
    "\n",
    "Vậy ta cần điều chỉnh mapping trong file `qdant_pipeline.py` như sau:\n",
    "\n",
    "```python:pipelines_OpenWebUI_aPartOf_RAG6/pipelines/qdant_pipeline.py\n",
    "# Trong hàm on_startup()\n",
    "\n",
    "# Kiểm tra và chuyển đổi dữ liệu từ Qdrant sang Haystack Document\n",
    "def convert_qdrant_to_document(point):\n",
    "    return Document(\n",
    "        content=point.payload.get(\"page_content\", \"\"),  # map từ page_content\n",
    "        meta={\n",
    "            \"source\": point.payload.get(\"metadata\", {}).get(\"source\", \"\"),  # map từ metadata.source\n",
    "            \"id\": point.id\n",
    "        }\n",
    "    )\n",
    "\n",
    "# Lấy documents từ Qdrant\n",
    "search_results = document_store.get_all_documents()\n",
    "docs = [convert_qdrant_to_document(point) for point in search_results]\n",
    "\n",
    "# Phần còn lại giữ nguyên...\n",
    "```\n",
    "\n",
    "Cấu trúc này sẽ map:\n",
    "- `page_content` -> `Document.content`\n",
    "- `metadata.source` -> `Document.meta[\"source\"]`\n",
    "- `point.id` -> `Document.meta[\"id\"]`\n",
    "\n",
    "Như vậy sẽ tương thích với cấu trúc Document mà Haystack pipeline đang sử dụng.\n"
   ]
  },
  {
   "cell_type": "markdown",
   "metadata": {},
   "source": [
    "# Chuyển kiểu: "
   ]
  },
  {
   "cell_type": "markdown",
   "metadata": {},
   "source": [
    "1. import trực tiếp vào docker \n",
    "```\n",
    "docker exec -it pipelines bash\n",
    "pip install qdrant-client\n",
    "```"
   ]
  }
 ],
 "metadata": {
  "language_info": {
   "name": "python"
  }
 },
 "nbformat": 4,
 "nbformat_minor": 2
}
