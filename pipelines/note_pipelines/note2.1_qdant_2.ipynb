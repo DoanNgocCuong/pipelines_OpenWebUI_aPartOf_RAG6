{
 "cells": [
  {
   "cell_type": "code",
   "execution_count": 4,
   "metadata": {},
   "outputs": [
    {
     "name": "stdout",
     "output_type": "stream",
     "text": [
      "Testing Qdrant search...\n",
      "Response Status: 200\n",
      "Response Data: {'result': [{'id': '7c9b8dbf-e631-429d-985d-b443b04a9dad', 'version': 0, 'score': 0.056992024}, {'id': 'a3fc7706-2812-4495-838e-18cbcd5bba89', 'version': 0, 'score': 0.04741749}, {'id': '6a20096d-8342-4b6f-8860-6ac2bc0ad306', 'version': 1, 'score': 0.04589819}, {'id': 'e28045df-f779-462f-a4e7-2d5a7ca66166', 'version': 1, 'score': 0.045791358}, {'id': 'a5693358-ca3e-4d1d-9d4c-b383348a989d', 'version': 2, 'score': 0.04545533}], 'status': 'ok', 'time': 0.001576648}\n"
     ]
    }
   ],
   "source": [
    "\n",
    "import os\n",
    "import requests\n",
    "import numpy as np\n",
    "# Cấu hình Qdrant\n",
    "QDRANT_API_URL = os.getenv(\n",
    "    \"QDRANT_API_URL\",\n",
    "    \"https://fcbf96b5-0f95-47b1-b088-dd1eba2a2758.us-east4-0.gcp.cloud.qdrant.io:6333\",\n",
    ")\n",
    "QDRANT_API_KEY = os.getenv(\n",
    "    \"QDRANT_API_KEY\", \"WbQ_8KeZKchBfQ-atnt5zfbkIShw6slMNvF0PK8qIOEIgaYqTyZLmw\"\n",
    ")\n",
    "QDRANT_COLLECTION = os.getenv(\"QDRANT_COLLECTION\", \"cmc_final_db\")\n",
    "\n",
    "\n",
    "def test_qdrant_search():\n",
    "    \"\"\"\n",
    "    Gửi một truy vấn đơn giản tới Qdrant để kiểm tra kết nối và response.\n",
    "    \"\"\"\n",
    "    url = f\"{QDRANT_API_URL}/collections/{QDRANT_COLLECTION}/points/search\"\n",
    "    headers = {\n",
    "        \"Authorization\": f\"Bearer {QDRANT_API_KEY}\",\n",
    "        \"Content-Type\": \"application/json\",\n",
    "    }\n",
    "\n",
    "    # Tạo một vector ngẫu nhiên kích thước 768\n",
    "    query_vector = list(np.random.rand(768))  # Hoặc vector thực tế từ pipeline của bạn\n",
    "    payload = {\n",
    "        \"vector\": query_vector,\n",
    "        \"limit\": 5,  # Số lượng kết quả muốn lấy\n",
    "    }\n",
    "\n",
    "    print(\"Testing Qdrant search...\")\n",
    "    try:\n",
    "        response = requests.post(url, json=payload, headers=headers)\n",
    "        response.raise_for_status()\n",
    "        print(f\"Response Status: {response.status_code}\")\n",
    "        print(\"Response Data:\", response.json())\n",
    "    except requests.exceptions.HTTPError as e:\n",
    "        print(\"HTTP Error:\", e.response.status_code, e.response.text)\n",
    "    except requests.exceptions.RequestException as e:\n",
    "        print(\"Error occurred:\", str(e))\n",
    "\n",
    "\n",
    "if __name__ == \"__main__\":\n",
    "    test_qdrant_search()\n"
   ]
  },
  {
   "cell_type": "markdown",
   "metadata": {},
   "source": [
    "## Add thêm Embedding Query"
   ]
  },
  {
   "cell_type": "code",
   "execution_count": null,
   "metadata": {},
   "outputs": [],
   "source": []
  },
  {
   "cell_type": "code",
   "execution_count": 1,
   "metadata": {},
   "outputs": [
    {
     "name": "stdout",
     "output_type": "stream",
     "text": [
      "Generating embedding for query...\n",
      "HTTP Error: 401 {\n",
      "    \"error\": {\n",
      "        \"message\": \"Incorrect API key provided: YOUR_OPE*******_KEY. You can find your API key at https://platform.openai.com/account/api-keys.\",\n",
      "        \"type\": \"invalid_request_error\",\n",
      "        \"param\": null,\n",
      "        \"code\": \"invalid_api_key\"\n",
      "    }\n",
      "}\n",
      "\n"
     ]
    }
   ],
   "source": [
    "import os\n",
    "import requests\n",
    "from dotenv import load_dotenv\n",
    "\n",
    "# Load environment variables from .env file\n",
    "load_dotenv()\n",
    "\n",
    "# Qdrant configuration\n",
    "QDRANT_API_URL = os.getenv(\"QDRANT_API_URL\")\n",
    "QDRANT_API_KEY = os.getenv(\"QDRANT_API_KEY\")  # Thay bằng API key của bạn\n",
    "QDRANT_COLLECTION = os.getenv(\"QDRANT_COLLECTION\")\n",
    "\n",
    "# OpenAI embedding configuration (nếu dùng OpenAI)\n",
    "OPENAI_API_URL = os.getenv(\"OPENAI_API_URL\")\n",
    "OPENAI_API_KEY = os.getenv(\"OPENAI_API_KEY\")  # Thay bằng API key OpenAI của bạn\n",
    "MODEL_NAME = os.getenv(\"MODEL_NAME\")  # Model embedding từ OpenAI\n",
    "\n",
    "\n",
    "# Function to generate embedding using OpenAI\n",
    "def generate_embedding(query_text):\n",
    "    headers = {\n",
    "        \"Authorization\": f\"Bearer {OPENAI_API_KEY}\",\n",
    "        \"Content-Type\": \"application/json\",\n",
    "    }\n",
    "    payload = {\n",
    "        \"input\": query_text,\n",
    "        \"model\": MODEL_NAME,\n",
    "    }\n",
    "\n",
    "    print(\"Generating embedding for query...\")\n",
    "    response = requests.post(OPENAI_API_URL, json=payload, headers=headers)\n",
    "    response.raise_for_status()\n",
    "    data = response.json()\n",
    "    return data[\"data\"][0][\"embedding\"]\n",
    "\n",
    "# Function to search in Qdrant\n",
    "def search_qdrant(embedding_vector):\n",
    "    url = f\"{QDRANT_API_URL}/collections/{QDRANT_COLLECTION}/points/search\"\n",
    "    headers = {\n",
    "        \"Authorization\": f\"Bearer {QDRANT_API_KEY}\",\n",
    "        \"Content-Type\": \"application/json\",\n",
    "    }\n",
    "    payload = {\n",
    "        \"vector\": embedding_vector,\n",
    "        \"limit\": 5,  # Số lượng kết quả muốn lấy\n",
    "    }\n",
    "\n",
    "    print(\"Testing Qdrant search...\")\n",
    "    response = requests.post(url, json=payload, headers=headers)\n",
    "    response.raise_for_status()\n",
    "    return response.json()\n",
    "\n",
    "# Main flow\n",
    "def main():\n",
    "    # Query text\n",
    "    query_text = \"Find information about deep learning and AI models.\"\n",
    "\n",
    "    try:\n",
    "        # Step 1: Generate embedding\n",
    "        embedding_vector = generate_embedding(query_text)\n",
    "        print(f\"Generated embedding: {embedding_vector[:5]}...\")  # In 5 giá trị đầu\n",
    "\n",
    "        # Step 2: Search in Qdrant\n",
    "        search_results = search_qdrant(embedding_vector)\n",
    "        print(\"Search Results:\", search_results)\n",
    "\n",
    "    except requests.exceptions.HTTPError as e:\n",
    "        print(\"HTTP Error:\", e.response.status_code, e.response.text)\n",
    "    except requests.exceptions.RequestException as e:\n",
    "        print(\"Error occurred:\", str(e))\n",
    "\n",
    "# Run the main function\n",
    "if __name__ == \"__main__\":\n",
    "    main()\n"
   ]
  },
  {
   "cell_type": "code",
   "execution_count": null,
   "metadata": {},
   "outputs": [],
   "source": []
  },
  {
   "cell_type": "code",
   "execution_count": null,
   "metadata": {},
   "outputs": [],
   "source": []
  }
 ],
 "metadata": {
  "kernelspec": {
   "display_name": "Python 3",
   "language": "python",
   "name": "python3"
  },
  "language_info": {
   "codemirror_mode": {
    "name": "ipython",
    "version": 3
   },
   "file_extension": ".py",
   "mimetype": "text/x-python",
   "name": "python",
   "nbconvert_exporter": "python",
   "pygments_lexer": "ipython3",
   "version": "3.12.8"
  }
 },
 "nbformat": 4,
 "nbformat_minor": 2
}
