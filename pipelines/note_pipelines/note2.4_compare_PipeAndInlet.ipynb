{
 "cells": [
  {
   "cell_type": "markdown",
   "metadata": {},
   "source": [
    "Let me explain the key differences and similarities between `pipe` and `inlet`:\n",
    "\n",
    "### Similarities (Điểm giống nhau):\n",
    "1. **Vector Search**: Cả hai đều thực hiện:\n",
    "   - Tạo embeddings từ user message\n",
    "   - Tìm kiếm trong Qdrant\n",
    "   - Xử lý matches và tạo references\n",
    "\n",
    "2. **Data Structure**: Cả hai đều tạo:\n",
    "   - Context từ matches\n",
    "   - References với cùng format (content, source, score)\n",
    "\n",
    "### Differences (Điểm khác nhau):\n",
    "\n",
    "1. **Mục đích sử dụng**:\n",
    "   - `inlet`: Tiền xử lý (pre-processing) messages trước khi gửi tới model\n",
    "   - `pipe`: Xử lý trực tiếp và trả về kết quả cuối cùng\n",
    "\n",
    "2. **Return Format**:\n",
    "```python\n",
    "# inlet return\n",
    "return body  # Trả về toàn bộ body với references được thêm vào\n",
    "{\n",
    "    \"messages\": [...],\n",
    "    \"references\": [...],\n",
    "    ...\n",
    "}\n",
    "\n",
    "# pipe return\n",
    "return {     # Trả về object mới chỉ chứa answer và references\n",
    "    \"answer\": response,\n",
    "    \"references\": references\n",
    "}\n",
    "```\n",
    "\n",
    "3. **Xử lý OpenAI**:\n",
    "   - `inlet`: Không gọi OpenAI, chỉ chuẩn bị context\n",
    "   - `pipe`: Có gọi OpenAI để lấy câu trả lời\n",
    "\n",
    "4. **Async/Sync**:\n",
    "   - `inlet`: Async function (`async def inlet`)\n",
    "   - `pipe`: Regular function (`def pipe`)\n",
    "\n",
    "5. **Message handling**:\n",
    "   - `inlet`: Thêm system message vào đầu conversation\n",
    "   - `pipe`: Tạo messages mới cho mỗi request\n",
    "\n",
    "### Use Cases (Trường hợp sử dụng):\n",
    "- `inlet`: Khi bạn muốn chuẩn bị context trước khi gửi tới model khác\n",
    "- `pipe`: Khi bạn muốn xử lý trực tiếp và nhận kết quả ngay\n"
   ]
  },
  {
   "cell_type": "code",
   "execution_count": null,
   "metadata": {},
   "outputs": [],
   "source": []
  }
 ],
 "metadata": {
  "language_info": {
   "name": "python"
  }
 },
 "nbformat": 4,
 "nbformat_minor": 2
}
