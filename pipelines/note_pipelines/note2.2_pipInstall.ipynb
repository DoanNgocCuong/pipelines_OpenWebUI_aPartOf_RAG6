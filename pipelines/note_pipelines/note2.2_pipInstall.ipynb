{
 "cells": [
  {
   "cell_type": "markdown",
   "metadata": {},
   "source": [
    "```\n",
    "docker exec -it pipelines bash\n",
    "```\n",
    "\n",
    "```\n",
    "pip install langchain requests\n",
    "pip install langchain-community\n",
    "```\n"
   ]
  },
  {
   "cell_type": "markdown",
   "metadata": {},
   "source": [
    "Từ logs, tôi thấy còn thiếu package `langchain-community`. Đây là danh sách các package đã được cài đặt và cần cài thêm:\n",
    "\n",
    "**Đã cài đặt:**\n",
    "- haystack-ai\n",
    "- datasets\n",
    "- sentence-transformers \n",
    "- llama-index\n",
    "- llama-index-llms-ollama\n",
    "- llama-index-embeddings-ollama\n",
    "- llama-index-readers-github\n",
    "- requests\n",
    "\n",
    "**Cần cài thêm:**\n",
    "```bash\n",
    "pip install langchain-community\n",
    "```\n",
    "\n",
    "Lỗi chính hiện tại là:\n",
    "1. `Module langchain_community.embeddings not found` - cần cài langchain-community\n",
    "2. `No Pipeline class found in qdant_pipeline_zohaibMeExtending` - cần kiểm tra lại code của pipeline class\n",
    "\n",
    "Sau khi cài langchain-community, nếu vẫn gặp lỗi 500 khi upload pipeline, chúng ta cần xem lại code của pipeline class để đảm bảo nó được định nghĩa đúng cách.\n"
   ]
  },
  {
   "cell_type": "markdown",
   "metadata": {},
   "source": [
    "## [qdant_pipeline]: fix lỗi thư viện "
   ]
  },
  {
   "cell_type": "markdown",
   "metadata": {},
   "source": [
    "```\n",
    "2025-01-10 01:40:29 Qdrant Cloud Pipeline stopped.\n",
    "2025-01-10 01:40:29 Installing requirement: haystack-ai\n",
    "2025-01-10 01:40:29 Installing requirement: datasets>=2.6.1\n",
    "2025-01-10 01:40:29 Installing requirement: sentence-transformers>=2.2.0\n",
    "2025-01-10 01:40:29 Loaded module: haystack_pipeline\n",
    "2025-01-10 01:40:29 Installing requirement: llama-index\n",
    "2025-01-10 01:40:29 Installing requirement: llama-index-llms-ollama\n",
    "2025-01-10 01:40:29 Installing requirement: llama-index-embeddings-ollama\n",
    "2025-01-10 01:40:29 Installing requirement: llama-index-readers-github\n",
    "2025-01-10 01:40:29 Loaded module: llamaindex_ollama_github_pipeline\n",
    "2025-01-10 01:40:29 Installing requirement: requests\n",
    "2025-01-10 01:40:29 Loaded module: qdant_pipeline_zohaibMeExtending\n",
    "2025-01-10 01:40:29 Installing requirement: requests\n",
    "2025-01-10 01:40:29 Loaded module: qdant_pipeline\n",
    "```"
   ]
  },
  {
   "cell_type": "code",
   "execution_count": null,
   "metadata": {},
   "outputs": [],
   "source": []
  }
 ],
 "metadata": {
  "language_info": {
   "name": "python"
  }
 },
 "nbformat": 4,
 "nbformat_minor": 2
}
